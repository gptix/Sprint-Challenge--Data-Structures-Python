{
 "cells": [
  {
   "cell_type": "code",
   "execution_count": 21,
   "metadata": {},
   "outputs": [
    {
     "name": "stdout",
     "output_type": "stream",
     "text": [
      "1 duplicates:\n",
      "\n",
      "Stan\n",
      "\n",
      "\n",
      "runtime: 0.005701780319213867 seconds\n"
     ]
    }
   ],
   "source": [
    "import time\n",
    "left = 'short_1.txt'\n",
    "right = 'short_2.txt'\n",
    "\n",
    "start_time = time.time()\n",
    "\n",
    "f = open(left, 'r')\n",
    "names_1 = f.read().split(\"\\n\")  # List containing 10000 names\n",
    "f.close()\n",
    "left = sorted(list(set(names_1)))\n",
    "\n",
    "f = open(right, 'r')\n",
    "names_2 = f.read().split(\"\\n\")  # List containing 10000 names\n",
    "f.close()\n",
    "right = sorted(list(set(names_2)))\n",
    "\n",
    "duplicates = []  # Return the list of duplicates in this data structure\n",
    "\n",
    "\n",
    "for sought_name in left:\n",
    "#     print(f'1- Sought name = {sought_name}')\n",
    "#     print(f'2- {right}')\n",
    "#     print(f'3- {right[0]< sought_name}')\n",
    "    for maybe_match in right:\n",
    "        popped_name = right.pop(0)\n",
    "#         print(f'4- {popped_name}')\n",
    "    if popped_name == sought_name:\n",
    "#         print(f'found a match: {sought_name}')\n",
    "        duplicates.append(sought_name)\n",
    "            \n",
    "end_time = time.time()\n",
    "print (f\"{len(duplicates)} duplicates:\\n\\n{', '.join(duplicates)}\\n\\n\")\n",
    "print (f\"runtime: {end_time - start_time} seconds\")\n",
    "\n",
    "# ---------- Stretch Goal -----------\n",
    "# Python has built-in tools that allow for a very efficient approach to this problem\n",
    "# What's the best time you can accomplish?  Thare are no restrictions on techniques or data\n",
    "# structures, but you may not import any additional libraries that you did not write yourself."
   ]
  },
  {
   "cell_type": "code",
   "execution_count": null,
   "metadata": {},
   "outputs": [],
   "source": [
    "\n",
    "            "
   ]
  },
  {
   "cell_type": "code",
   "execution_count": null,
   "metadata": {},
   "outputs": [],
   "source": []
  },
  {
   "cell_type": "code",
   "execution_count": null,
   "metadata": {},
   "outputs": [],
   "source": [
    "left_index = 0\n",
    "while len(left_list) > 0 and len(right_list) >0:\n",
    "    # if either is empty, end of routine\n",
    "    left_name = left_list[left_index]\n",
    "    right_list = shrink_list(left_name, right_list)\n",
    "    if left_name == right_list[0]:\n",
    "        duplicate.append(left_name)\n",
    "    left_list == shrink_list(right_list[1], left_list)    \n",
    "    \n",
    "        \n",
    "    # assume that the left list has an erlier naame\n",
    "\n",
    "def get_dupes(red_list, blue_list):\n",
    "    while len(red_list) > 0 and len(blue_list) > 0:\n",
    "        name_sought = red_list[0]\n",
    "        print(f'checking left name: {red_list[0]} against right list.')\n",
    "        print(f'first name on right before shrinking: {blue_list[0]}')  \n",
    "        blue_list = shrink_list(name_sought, blue_list) \n",
    "        print(f'first name on right after shrinking: {blue_list[0]}')\n",
    "        if name_sought == blue_list[0]:\n",
    "            duplicates.append(name_sought)\n",
    "            # rotate lists\n",
    "            dummy_list = red_list[1:]\n",
    "            red_list = blue_list[1:]\n",
    "            blue_list = dummy_list\n",
    "            print(red_list)\n",
    "            print(blue_list)\n",
    "            print(dummy_list)\n",
    "            input()\n",
    "    \n",
    "get_dupes(left_list, right_list)"
   ]
  },
  {
   "cell_type": "code",
   "execution_count": null,
   "metadata": {},
   "outputs": [],
   "source": [
    "       \n",
    "\n",
    "#     while name < right_hand_name:\n",
    "#         names_2_index += 1\n",
    "#     if name == right_hand_name:\n",
    "#         duplicates.append(name)\n",
    "        \n",
    "\n",
    "#     search_index = index_2\n",
    "#     while name < names_2[search_index]:\n",
    "#         search_index += 1\n",
    "#     if name == names_2[search_index]:\n",
    "#         duplicates.append(name)\n",
    "        \n",
    "    \n",
    "\n",
    "# # Replace the nested for loops below with your improvements\n",
    "# for name_1 in names_1:\n",
    "#     for name_2 in names_2:\n",
    "#         if name_1 == name_2:\n",
    "#             duplicates.append(name_1)\n",
    "\n"
   ]
  },
  {
   "cell_type": "code",
   "execution_count": null,
   "metadata": {},
   "outputs": [],
   "source": [
    "# def shrink_list(val, list):\n",
    "#     i = 0\n",
    "#     print (f'i == {i}')\n",
    "#     while val >= list[i]:\n",
    "#         print(i)\n",
    "#         i += 1\n",
    "#     return list[i:]"
   ]
  }
 ],
 "metadata": {
  "kernelspec": {
   "display_name": "Python 3",
   "language": "python",
   "name": "python3"
  },
  "language_info": {
   "codemirror_mode": {
    "name": "ipython",
    "version": 3
   },
   "file_extension": ".py",
   "mimetype": "text/x-python",
   "name": "python",
   "nbconvert_exporter": "python",
   "pygments_lexer": "ipython3",
   "version": "3.7.6"
  }
 },
 "nbformat": 4,
 "nbformat_minor": 4
}
