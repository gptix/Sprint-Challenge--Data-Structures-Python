{
 "cells": [
  {
   "cell_type": "code",
   "execution_count": 1,
   "metadata": {},
   "outputs": [],
   "source": []
  },
  {
   "cell_type": "code",
   "execution_count": 2,
   "metadata": {},
   "outputs": [
    {
     "name": "stdout",
     "output_type": "stream",
     "text": [
      "<Ringbuffer: Capacity: 2>\n"
     ]
    }
   ],
   "source": [
    "foo  = RingBuffer()"
   ]
  },
  {
   "cell_type": "code",
   "execution_count": 3,
   "metadata": {},
   "outputs": [
    {
     "name": "stdout",
     "output_type": "stream",
     "text": [
      "\n",
      " Appending.  Pre-append self.head None\n",
      "Made a node.\n",
      "head: <__main__.ListNode object at 0x7fb16c6e0790>\n",
      "tail: <__main__.ListNode object at 0x7fb16c6e0790>\n",
      "head next: None\n",
      "self.head <__main__.ListNode object at 0x7fb16c6e0790>\n",
      "new head.next: None\n",
      "\n",
      " Appending.  Pre-append self.head <__main__.ListNode object at 0x7fb16c6e0790>\n",
      "pre_change_head: <__main__.ListNode object at 0x7fb16c6e0790>\n",
      "head after change: <__main__.ListNode object at 0x7fb16c6e0f90>\n",
      "head.next after change: <__main__.ListNode object at 0x7fb16c6e0790>\n",
      "OLD first node's new PREV: <__main__.ListNode object at 0x7fb16c6e0f90>\n",
      "self.head <__main__.ListNode object at 0x7fb16c6e0f90>\n",
      "new head.next: <__main__.ListNode object at 0x7fb16c6e0790>\n",
      "\n",
      " Appending.  Pre-append self.head <__main__.ListNode object at 0x7fb16c6e0f90>\n",
      "pre_change_head: <__main__.ListNode object at 0x7fb16c6e0f90>\n",
      "head after change: <__main__.ListNode object at 0x7fb16c6de890>\n",
      "head.next after change: <__main__.ListNode object at 0x7fb16c6e0f90>\n",
      "OLD first node's new PREV: <__main__.ListNode object at 0x7fb16c6de890>\n",
      "self.head <__main__.ListNode object at 0x7fb16c6de890>\n",
      "new head.next: <__main__.ListNode object at 0x7fb16c6e0f90>\n",
      "Need to remove a node.\n",
      "Removed a node.\n"
     ]
    }
   ],
   "source": [
    "foo.append(3)\n",
    "foo.append(\"blue\")\n",
    "foo.append(\"[1,2,3]\")\n",
    "foo.head.next"
   ]
  },
  {
   "cell_type": "code",
   "execution_count": 4,
   "metadata": {},
   "outputs": [
    {
     "data": {
      "text/plain": [
       "2"
      ]
     },
     "execution_count": 4,
     "metadata": {},
     "output_type": "execute_result"
    }
   ],
   "source": [
    "foo.length"
   ]
  },
  {
   "cell_type": "code",
   "execution_count": 5,
   "metadata": {},
   "outputs": [],
   "source": [
    "foo.head.next\n"
   ]
  },
  {
   "cell_type": "code",
   "execution_count": null,
   "metadata": {},
   "outputs": [],
   "source": []
  }
 ],
 "metadata": {
  "kernelspec": {
   "display_name": "Python 3",
   "language": "python",
   "name": "python3"
  },
  "language_info": {
   "codemirror_mode": {
    "name": "ipython",
    "version": 3
   },
   "file_extension": ".py",
   "mimetype": "text/x-python",
   "name": "python",
   "nbconvert_exporter": "python",
   "pygments_lexer": "ipython3",
   "version": "3.7.6"
  }
 },
 "nbformat": 4,
 "nbformat_minor": 4
}
